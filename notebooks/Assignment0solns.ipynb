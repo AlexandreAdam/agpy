{
 "metadata": {
  "name": "Assignment0solns"
 }, 
 "nbformat": 2, 
 "worksheets": [
  {
   "cells": [
    {
     "cell_type": "markdown", 
     "source": [
      "Assignment 0 solutions"
     ]
    }, 
    {
     "cell_type": "code", 
     "collapsed": false, 
     "input": [
      "print 3+5"
     ], 
     "language": "python", 
     "outputs": [
      {
       "output_type": "stream", 
       "stream": "stdout", 
       "text": [
        "8"
       ]
      }
     ], 
     "prompt_number": 1
    }, 
    {
     "cell_type": "code", 
     "collapsed": false, 
     "input": [
      "print 12-7"
     ], 
     "language": "python", 
     "outputs": [
      {
       "output_type": "stream", 
       "stream": "stdout", 
       "text": [
        "5"
       ]
      }
     ], 
     "prompt_number": 2
    }, 
    {
     "cell_type": "code", 
     "collapsed": false, 
     "input": [
      "print 2*5"
     ], 
     "language": "python", 
     "outputs": [
      {
       "output_type": "stream", 
       "stream": "stdout", 
       "text": [
        "10"
       ]
      }
     ], 
     "prompt_number": 3
    }, 
    {
     "cell_type": "code", 
     "collapsed": false, 
     "input": [
      "print 2*5.5"
     ], 
     "language": "python", 
     "outputs": [
      {
       "output_type": "stream", 
       "stream": "stdout", 
       "text": [
        "11.0"
       ]
      }
     ], 
     "prompt_number": 4
    }, 
    {
     "cell_type": "code", 
     "collapsed": false, 
     "input": [
      "print 9/3"
     ], 
     "language": "python", 
     "outputs": [
      {
       "output_type": "stream", 
       "stream": "stdout", 
       "text": [
        "3"
       ]
      }
     ], 
     "prompt_number": 5
    }, 
    {
     "cell_type": "code", 
     "collapsed": false, 
     "input": [
      "print 9./4."
     ], 
     "language": "python", 
     "outputs": [
      {
       "output_type": "stream", 
       "stream": "stdout", 
       "text": [
        "2.25"
       ]
      }
     ], 
     "prompt_number": 6
    }, 
    {
     "cell_type": "code", 
     "collapsed": false, 
     "input": [
      "print 9/4"
     ], 
     "language": "python", 
     "outputs": [
      {
       "output_type": "stream", 
       "stream": "stdout", 
       "text": [
        "2"
       ]
      }
     ], 
     "prompt_number": 7
    }, 
    {
     "cell_type": "code", 
     "collapsed": false, 
     "input": [
      "print 3/4"
     ], 
     "language": "python", 
     "outputs": [
      {
       "output_type": "stream", 
       "stream": "stdout", 
       "text": [
        "0"
       ]
      }
     ], 
     "prompt_number": 8
    }, 
    {
     "cell_type": "code", 
     "collapsed": false, 
     "input": [
      "print 2**3"
     ], 
     "language": "python", 
     "outputs": [
      {
       "output_type": "stream", 
       "stream": "stdout", 
       "text": [
        "8"
       ]
      }
     ], 
     "prompt_number": 9
    }, 
    {
     "cell_type": "code", 
     "collapsed": false, 
     "input": [
      "print 2^3, 3^2, 2^4, 2^5, 2^6, 3^4, 3^5, 3^6"
     ], 
     "language": "python", 
     "outputs": [
      {
       "output_type": "stream", 
       "stream": "stdout", 
       "text": [
        "1 1 6 7 4 7 6 5"
       ]
      }
     ], 
     "prompt_number": 15
    }, 
    {
     "cell_type": "code", 
     "collapsed": false, 
     "input": [
      "print 9.**1.5"
     ], 
     "language": "python", 
     "outputs": [
      {
       "output_type": "stream", 
       "stream": "stdout", 
       "text": [
        "27.0"
       ]
      }
     ], 
     "prompt_number": 12
    }, 
    {
     "cell_type": "code", 
     "collapsed": false, 
     "input": [
      "x=7", 
      "y=x/2", 
      "print y", 
      "print y", 
      "%whos", 
      "y=x/2.", 
      "print y", 
      "%whos", 
      "%pinfo2 y", 
      "print x,y", 
      "million = 1e6", 
      "%whos", 
      "%pinfo2 million", 
      "print np.pi"
     ], 
     "language": "python", 
     "outputs": [
      {
       "output_type": "stream", 
       "stream": "stdout", 
       "text": [
        "3", 
        "3", 
        "Variable    Type       Data/Info", 
        "--------------------------------", 
        "A           float      12.5663706144", 
        "B           float64    8.32729295693e+13", 
        "L           float      3.90627161799e+26", 
        "R           float      696000000.0", 
        "T           int        10000", 
        "c           float      299792500.0", 
        "firstName   str        Albert", 
        "fullName    str        Albert Einstein", 
        "h           float      6.627e-34", 
        "k           float      1.380658e-23", 
        "lam         float      7.6e-07", 
        "lastName    str        Einstein", 
        "million     float      1000000.0", 
        "notA        float      39.4784176044", 
        "r           float64    7.0", 
        "sigma       float      5.67051e-08", 
        "x           int        7", 
        "y           int        3", 
        "z           float64    -8.65542956737", 
        "3.5", 
        "Variable    Type       Data/Info", 
        "--------------------------------", 
        "A           float      12.5663706144", 
        "B           float64    8.32729295693e+13", 
        "L           float      3.90627161799e+26", 
        "R           float      696000000.0", 
        "T           int        10000", 
        "c           float      299792500.0", 
        "firstName   str        Albert", 
        "fullName    str        Albert Einstein", 
        "h           float      6.627e-34", 
        "k           float      1.380658e-23", 
        "lam         float      7.6e-07", 
        "lastName    str        Einstein", 
        "million     float      1000000.0", 
        "notA        float      39.4784176044", 
        "r           float64    7.0", 
        "sigma       float      5.67051e-08", 
        "x           int        7", 
        "y           float      3.5", 
        "z           float64    -8.65542956737", 
        "7 3.5", 
        "Variable    Type       Data/Info", 
        "--------------------------------", 
        "A           float      12.5663706144", 
        "B           float64    8.32729295693e+13", 
        "L           float      3.90627161799e+26", 
        "R           float      696000000.0", 
        "T           int        10000", 
        "c           float      299792500.0", 
        "firstName   str        Albert", 
        "fullName    str        Albert Einstein", 
        "h           float      6.627e-34", 
        "k           float      1.380658e-23", 
        "lam         float      7.6e-07", 
        "lastName    str        Einstein", 
        "million     float      1000000.0", 
        "notA        float      39.4784176044", 
        "r           float64    7.0", 
        "sigma       float      5.67051e-08", 
        "x           int        7", 
        "y           float      3.5", 
        "z           float64    -8.65542956737", 
        "3.14159265359"
       ]
      }
     ], 
     "prompt_number": 46
    }, 
    {
     "cell_type": "code", 
     "collapsed": false, 
     "input": [
      "r=2.", 
      "A=np.pi*r**2", 
      "print A", 
      "notA = (np.pi*r)**2", 
      "print notA", 
      "print 2-4+3", 
      "print 2-(4+3)", 
      "print (2-4)+3", 
      "print 2-4*3", 
      "print 2./4.*3.", 
      "print 2./(4.*3.)"
     ], 
     "language": "python", 
     "outputs": [
      {
       "output_type": "stream", 
       "stream": "stdout", 
       "text": [
        "12.5663706144", 
        "39.4784176044", 
        "1", 
        "-5", 
        "1", 
        "-10", 
        "1.5", 
        "0.166666666667"
       ]
      }
     ], 
     "prompt_number": 25
    }, 
    {
     "cell_type": "code", 
     "collapsed": false, 
     "input": [
      "print \"hey\""
     ], 
     "language": "python", 
     "outputs": [
      {
       "output_type": "stream", 
       "stream": "stdout", 
       "text": [
        "hey"
       ]
      }
     ], 
     "prompt_number": 26
    }, 
    {
     "cell_type": "code", 
     "collapsed": false, 
     "input": [
      "print Hey"
     ], 
     "language": "python", 
     "outputs": [
      {
       "ename": "NameError", 
       "evalue": "name 'Hey' is not defined", 
       "output_type": "pyerr", 
       "traceback": [
        "<span class=\"ansired\">---------------------------------------------------------------------------</span>\n<span class=\"ansired\">NameError</span>                                 Traceback (most recent call last)", 
        "<span class=\"ansigreen\">/Users/adam/agpy/&lt;ipython-input-27-814094d2b347&gt;</span> in <span class=\"ansicyan\">&lt;module&gt;</span><span class=\"ansiblue\">()</span>\n<span class=\"ansigreen\">----&gt; 1</span><span class=\"ansired\"> </span><span class=\"ansigreen\">print</span> Hey<span class=\"ansiblue\"></span>\n", 
        "<span class=\"ansired\">NameError</span>: name &apos;Hey&apos; is not defined"
       ]
      }
     ], 
     "prompt_number": 27
    }, 
    {
     "cell_type": "code", 
     "collapsed": false, 
     "input": [
      "firstName = \"Albert\"", 
      "print firstName", 
      "lastName = \"Einstein\"", 
      "print firstName,lastName", 
      "print firstName,\" \",lastName", 
      "fullName = firstName +\" \"+ lastName", 
      "print fullName"
     ], 
     "language": "python", 
     "outputs": [
      {
       "output_type": "stream", 
       "stream": "stdout", 
       "text": [
        "Albert", 
        "Albert Einstein", 
        "Albert   Einstein", 
        "Albert Einstein"
       ]
      }
     ], 
     "prompt_number": 29
    }, 
    {
     "cell_type": "markdown", 
     "source": [
      "Exercise 1.4"
     ]
    }, 
    {
     "cell_type": "code", 
     "collapsed": false, 
     "input": [
      "r = sqrt(49)", 
      "print r", 
      "r = sqrt(49.)", 
      "print r", 
      "y = sin(1)", 
      "print y", 
      "x = cos(1)", 
      "print tan(1)", 
      "print arccos(x)", 
      "print arcsin(y)", 
      "print arctan(y/x)", 
      "print exp(1.)", 
      "print log(2.7)", 
      "print log10(1000.)"
     ], 
     "language": "python", 
     "outputs": [
      {
       "output_type": "stream", 
       "stream": "stdout", 
       "text": [
        "7.0", 
        "7.0", 
        "0.841470984808", 
        "1.55740772465", 
        "1.0", 
        "1.0", 
        "1.0", 
        "2.71828182846", 
        "0.99325177301", 
        "3.0"
       ]
      }
     ], 
     "prompt_number": 33
    }, 
    {
     "cell_type": "markdown", 
     "source": [
      "Exercise 1.5"
     ]
    }, 
    {
     "cell_type": "code", 
     "collapsed": false, 
     "input": [
      "x=3.2", 
      "y=5.*x**3 + 4.*x**2+3*x+2.", 
      "print y", 
      "z=2.+x*(3.+x*(4.+x*5.))", 
      "print z", 
      "x=2.9", 
      "print z", 
      "z=2.+x*(3.+x*(4.+x*5.))", 
      "print z", 
      "z=(2.*x**2+3*x)/sqrt(y*x)-exp(x)+8.5", 
      "print z", 
      "sigma=5.67051e-8", 
      "R=6.96e8", 
      "T=5800.", 
      "L=4*np.pi*R**2*sigma*T**4", 
      "print L"
     ], 
     "language": "python", 
     "outputs": [
      {
       "output_type": "stream", 
       "stream": "stdout", 
       "text": [
        "216.4", 
        "216.4", 
        "216.4", 
        "166.285", 
        "-8.65542956737", 
        "3.90627161799e+26"
       ]
      }
     ], 
     "prompt_number": 40
    }, 
    {
     "cell_type": "markdown", 
     "source": [
      "Exercise 1.6"
     ]
    }, 
    {
     "cell_type": "code", 
     "collapsed": false, 
     "input": [
      "h = 6.627e-34", 
      "k = 1.380658e-23", 
      "c = 2.997925e8", 
      "lam = 7.6e-7", 
      "T = 10000", 
      "B = 2*h*c**2 / ( lam**5 * (exp(h*c/(lam*k*T))-1))", 
      "print B"
     ], 
     "language": "python", 
     "outputs": [
      {
       "output_type": "stream", 
       "stream": "stdout", 
       "text": [
        "8.32729295693e+13"
       ]
      }
     ], 
     "prompt_number": 42
    }, 
    {
     "cell_type": "code", 
     "collapsed": false, 
     "input": [
      "x=1", 
      "x+=1"
     ], 
     "language": "python", 
     "outputs": [], 
     "prompt_number": 44
    }, 
    {
     "cell_type": "markdown", 
     "source": [
      "Exercise 1.11"
     ]
    }, 
    {
     "cell_type": "code", 
     "collapsed": true, 
     "input": [
      "h = 6.627e-34", 
      "k = 1.380658e-23", 
      "c = 2.997925e8", 
      "lam = 7.6e-7", 
      "nanometer = 1e-9", 
      "T = 10000", 
      "B = 2*h*c**2 / ( lam**5 * (exp(h*c/(lam*k*T))-1))", 
      "minlambda = 100*nanometer", 
      "maxlambda = 100*nanometer"
     ], 
     "language": "python", 
     "outputs": [], 
     "prompt_number": "&nbsp;"
    }, 
    {
     "cell_type": "markdown", 
     "source": [
      "Homework 1.0"
     ]
    }, 
    {
     "cell_type": "code", 
     "collapsed": false, 
     "input": [], 
     "language": "python", 
     "outputs": [], 
     "prompt_number": 50
    }, 
    {
     "cell_type": "code", 
     "collapsed": false, 
     "input": [], 
     "language": "python", 
     "outputs": [], 
     "prompt_number": 51
    }, 
    {
     "cell_type": "code", 
     "collapsed": true, 
     "input": [], 
     "language": "python", 
     "outputs": [], 
     "prompt_number": "&nbsp;"
    }
   ]
  }
 ]
}